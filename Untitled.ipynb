{
 "cells": [
  {
   "cell_type": "code",
   "execution_count": 1,
   "metadata": {
    "scrolled": true
   },
   "outputs": [
    {
     "name": "stderr",
     "output_type": "stream",
     "text": [
      "Using TensorFlow backend.\n"
     ]
    },
    {
     "data": {
      "text/plain": [
       "<Figure size 720x720 with 0 Axes>"
      ]
     },
     "metadata": {},
     "output_type": "display_data"
    }
   ],
   "source": [
    "import librosa\n",
    "import pandas as pd\n",
    "import numpy as np\n",
    "import matplotlib.pyplot as plt\n",
    "%matplotlib inline\n",
    "import os\n",
    "from PIL import Image\n",
    "import pathlib\n",
    "import csv\n",
    "\n",
    "from sklearn.model_selection import train_test_split\n",
    "from sklearn.preprocessing import LabelEncoder, StandardScaler\n",
    "\n",
    "import keras\n",
    "\n",
    "import warnings\n",
    "warnings.filterwarnings('ignore')\n",
    "\n",
    "\n",
    "cmap = plt.get_cmap('inferno')\n",
    "\n",
    "plt.figure(figsize=(10,10))\n",
    "genres = 'blues classical country disco hiphop jazz metal pop reggae rock'.split()\n",
    "for g in genres:\n",
    "    pathlib.Path(f'../genres/{g}').mkdir(parents=True, exist_ok=True)     \n",
    "    for filename in os.listdir(f'../genres/{g}'):\n",
    "        songname = f'../genres/{g}/{filename}'\n",
    "        y, sr = librosa.load(songname, mono=True, duration=5)\n",
    "        plt.specgram(y, NFFT=2048, Fs=2, Fc=0, noverlap=128, cmap=cmap, sides='default', mode='default', scale='dB');\n",
    "        plt.axis('off');\n",
    "        plt.savefig(f'img_data/{g}/{filename[:-3].replace(\".\", \"\")}.png')\n",
    "        plt.clf()\n",
    "                    \n",
    "\n",
    "header = 'filename chroma_stft rmse spectral_centroid spectral_bandwidth rolloff zero_crossing_rate'\n",
    "for i in range(1, 21):\n",
    "    header += f' mfcc{i}'\n",
    "header += ' label'\n",
    "header = header.split()"
   ]
  },
  {
   "cell_type": "code",
   "execution_count": 2,
   "metadata": {},
   "outputs": [],
   "source": [
    "file = open('data.csv', 'w', newline='')\n",
    "with file:\n",
    "    writer = csv.writer(file)\n",
    "    writer.writerow(header)\n",
    "genres = 'blues classical country disco hiphop jazz metal pop reggae rock'.split()\n",
    "for g in genres:\n",
    "    for filename in os.listdir(f'../genres/{g}'):\n",
    "        songname = f'../genres/{g}/{filename}'\n",
    "        y, sr = librosa.load(songname, mono=True, duration=30)\n",
    "        chroma_stft = librosa.feature.chroma_stft(y=y, sr=sr)\n",
    "        spec_cent = librosa.feature.spectral_centroid(y=y, sr=sr)\n",
    "        spec_bw = librosa.feature.spectral_bandwidth(y=y, sr=sr)\n",
    "        rolloff = librosa.feature.spectral_rolloff(y=y, sr=sr)\n",
    "        zcr = librosa.feature.zero_crossing_rate(y)\n",
    "        mfcc = librosa.feature.mfcc(y=y, sr=sr)\n",
    "        to_append = f'{filename} {np.mean(chroma_stft)} {np.mean(spec_cent)} {np.mean(spec_bw)} {np.mean(rolloff)} {np.mean(zcr)}'    \n",
    "        for e in mfcc:\n",
    "            to_append += f' {np.mean(e)}'\n",
    "        to_append += f' {g}'\n",
    "        file = open('data.csv', 'a', newline='')\n",
    "        with file:\n",
    "            writer = csv.writer(file)\n",
    "            writer.writerow(to_append.split())"
   ]
  },
  {
   "cell_type": "code",
   "execution_count": 3,
   "metadata": {},
   "outputs": [
    {
     "data": {
      "text/html": [
       "<div>\n",
       "<style scoped>\n",
       "    .dataframe tbody tr th:only-of-type {\n",
       "        vertical-align: middle;\n",
       "    }\n",
       "\n",
       "    .dataframe tbody tr th {\n",
       "        vertical-align: top;\n",
       "    }\n",
       "\n",
       "    .dataframe thead th {\n",
       "        text-align: right;\n",
       "    }\n",
       "</style>\n",
       "<table border=\"1\" class=\"dataframe\">\n",
       "  <thead>\n",
       "    <tr style=\"text-align: right;\">\n",
       "      <th></th>\n",
       "      <th>filename</th>\n",
       "      <th>chroma_stft</th>\n",
       "      <th>rmse</th>\n",
       "      <th>spectral_centroid</th>\n",
       "      <th>spectral_bandwidth</th>\n",
       "      <th>rolloff</th>\n",
       "      <th>zero_crossing_rate</th>\n",
       "      <th>mfcc1</th>\n",
       "      <th>mfcc2</th>\n",
       "      <th>mfcc3</th>\n",
       "      <th>...</th>\n",
       "      <th>mfcc12</th>\n",
       "      <th>mfcc13</th>\n",
       "      <th>mfcc14</th>\n",
       "      <th>mfcc15</th>\n",
       "      <th>mfcc16</th>\n",
       "      <th>mfcc17</th>\n",
       "      <th>mfcc18</th>\n",
       "      <th>mfcc19</th>\n",
       "      <th>mfcc20</th>\n",
       "      <th>label</th>\n",
       "    </tr>\n",
       "  </thead>\n",
       "  <tbody>\n",
       "    <tr>\n",
       "      <td>0</td>\n",
       "      <td>blues.00000.wav</td>\n",
       "      <td>0.349943</td>\n",
       "      <td>1784.420446</td>\n",
       "      <td>2002.650192</td>\n",
       "      <td>3806.485316</td>\n",
       "      <td>0.083066</td>\n",
       "      <td>-113.596742</td>\n",
       "      <td>121.557302</td>\n",
       "      <td>-19.158825</td>\n",
       "      <td>42.351029</td>\n",
       "      <td>...</td>\n",
       "      <td>-3.667367</td>\n",
       "      <td>5.751690</td>\n",
       "      <td>-5.162761</td>\n",
       "      <td>0.750947</td>\n",
       "      <td>-1.691937</td>\n",
       "      <td>-0.409954</td>\n",
       "      <td>-2.300208</td>\n",
       "      <td>1.219928</td>\n",
       "      <td>blues</td>\n",
       "      <td>NaN</td>\n",
       "    </tr>\n",
       "    <tr>\n",
       "      <td>1</td>\n",
       "      <td>blues.00001.wav</td>\n",
       "      <td>0.340983</td>\n",
       "      <td>1529.835316</td>\n",
       "      <td>2038.617579</td>\n",
       "      <td>3548.820207</td>\n",
       "      <td>0.056044</td>\n",
       "      <td>-207.556796</td>\n",
       "      <td>124.006717</td>\n",
       "      <td>8.930562</td>\n",
       "      <td>35.874684</td>\n",
       "      <td>...</td>\n",
       "      <td>-2.239119</td>\n",
       "      <td>4.216963</td>\n",
       "      <td>-6.012273</td>\n",
       "      <td>0.936109</td>\n",
       "      <td>-0.716537</td>\n",
       "      <td>0.293875</td>\n",
       "      <td>-0.287431</td>\n",
       "      <td>0.531573</td>\n",
       "      <td>blues</td>\n",
       "      <td>NaN</td>\n",
       "    </tr>\n",
       "    <tr>\n",
       "      <td>2</td>\n",
       "      <td>blues.00002.wav</td>\n",
       "      <td>0.363603</td>\n",
       "      <td>1552.481958</td>\n",
       "      <td>1747.165985</td>\n",
       "      <td>3040.514948</td>\n",
       "      <td>0.076301</td>\n",
       "      <td>-90.754394</td>\n",
       "      <td>140.459907</td>\n",
       "      <td>-29.109965</td>\n",
       "      <td>31.689014</td>\n",
       "      <td>...</td>\n",
       "      <td>-8.905224</td>\n",
       "      <td>-1.083720</td>\n",
       "      <td>-9.218359</td>\n",
       "      <td>2.455805</td>\n",
       "      <td>-7.726901</td>\n",
       "      <td>-1.815724</td>\n",
       "      <td>-3.433434</td>\n",
       "      <td>-2.226821</td>\n",
       "      <td>blues</td>\n",
       "      <td>NaN</td>\n",
       "    </tr>\n",
       "    <tr>\n",
       "      <td>3</td>\n",
       "      <td>blues.00003.wav</td>\n",
       "      <td>0.404779</td>\n",
       "      <td>1070.119953</td>\n",
       "      <td>1596.333948</td>\n",
       "      <td>2185.028454</td>\n",
       "      <td>0.033309</td>\n",
       "      <td>-199.431144</td>\n",
       "      <td>150.099218</td>\n",
       "      <td>5.647594</td>\n",
       "      <td>26.871927</td>\n",
       "      <td>...</td>\n",
       "      <td>-2.476420</td>\n",
       "      <td>-1.073890</td>\n",
       "      <td>-2.874777</td>\n",
       "      <td>0.780976</td>\n",
       "      <td>-3.316932</td>\n",
       "      <td>0.637981</td>\n",
       "      <td>-0.619690</td>\n",
       "      <td>-3.408233</td>\n",
       "      <td>blues</td>\n",
       "      <td>NaN</td>\n",
       "    </tr>\n",
       "    <tr>\n",
       "      <td>4</td>\n",
       "      <td>blues.00004.wav</td>\n",
       "      <td>0.308590</td>\n",
       "      <td>1835.494603</td>\n",
       "      <td>1748.362448</td>\n",
       "      <td>3580.945013</td>\n",
       "      <td>0.101500</td>\n",
       "      <td>-160.266031</td>\n",
       "      <td>126.198800</td>\n",
       "      <td>-35.605448</td>\n",
       "      <td>22.153301</td>\n",
       "      <td>...</td>\n",
       "      <td>-6.934122</td>\n",
       "      <td>-7.558619</td>\n",
       "      <td>-9.173552</td>\n",
       "      <td>-4.512166</td>\n",
       "      <td>-5.453538</td>\n",
       "      <td>-0.924162</td>\n",
       "      <td>-4.409333</td>\n",
       "      <td>-11.703781</td>\n",
       "      <td>blues</td>\n",
       "      <td>NaN</td>\n",
       "    </tr>\n",
       "  </tbody>\n",
       "</table>\n",
       "<p>5 rows × 28 columns</p>\n",
       "</div>"
      ],
      "text/plain": [
       "          filename  chroma_stft         rmse  spectral_centroid  \\\n",
       "0  blues.00000.wav     0.349943  1784.420446        2002.650192   \n",
       "1  blues.00001.wav     0.340983  1529.835316        2038.617579   \n",
       "2  blues.00002.wav     0.363603  1552.481958        1747.165985   \n",
       "3  blues.00003.wav     0.404779  1070.119953        1596.333948   \n",
       "4  blues.00004.wav     0.308590  1835.494603        1748.362448   \n",
       "\n",
       "   spectral_bandwidth   rolloff  zero_crossing_rate       mfcc1      mfcc2  \\\n",
       "0         3806.485316  0.083066         -113.596742  121.557302 -19.158825   \n",
       "1         3548.820207  0.056044         -207.556796  124.006717   8.930562   \n",
       "2         3040.514948  0.076301          -90.754394  140.459907 -29.109965   \n",
       "3         2185.028454  0.033309         -199.431144  150.099218   5.647594   \n",
       "4         3580.945013  0.101500         -160.266031  126.198800 -35.605448   \n",
       "\n",
       "       mfcc3  ...    mfcc12    mfcc13    mfcc14    mfcc15    mfcc16    mfcc17  \\\n",
       "0  42.351029  ... -3.667367  5.751690 -5.162761  0.750947 -1.691937 -0.409954   \n",
       "1  35.874684  ... -2.239119  4.216963 -6.012273  0.936109 -0.716537  0.293875   \n",
       "2  31.689014  ... -8.905224 -1.083720 -9.218359  2.455805 -7.726901 -1.815724   \n",
       "3  26.871927  ... -2.476420 -1.073890 -2.874777  0.780976 -3.316932  0.637981   \n",
       "4  22.153301  ... -6.934122 -7.558619 -9.173552 -4.512166 -5.453538 -0.924162   \n",
       "\n",
       "     mfcc18     mfcc19  mfcc20  label  \n",
       "0 -2.300208   1.219928   blues    NaN  \n",
       "1 -0.287431   0.531573   blues    NaN  \n",
       "2 -3.433434  -2.226821   blues    NaN  \n",
       "3 -0.619690  -3.408233   blues    NaN  \n",
       "4 -4.409333 -11.703781   blues    NaN  \n",
       "\n",
       "[5 rows x 28 columns]"
      ]
     },
     "execution_count": 3,
     "metadata": {},
     "output_type": "execute_result"
    }
   ],
   "source": [
    "data = pd.read_csv('data.csv')\n",
    "data.head()"
   ]
  },
  {
   "cell_type": "code",
   "execution_count": 4,
   "metadata": {},
   "outputs": [
    {
     "data": {
      "text/plain": [
       "(900, 28)"
      ]
     },
     "execution_count": 4,
     "metadata": {},
     "output_type": "execute_result"
    }
   ],
   "source": [
    "data.shape"
   ]
  },
  {
   "cell_type": "code",
   "execution_count": 5,
   "metadata": {},
   "outputs": [],
   "source": [
    "data = data.drop(['filename'],axis=1)"
   ]
  },
  {
   "cell_type": "code",
   "execution_count": 6,
   "metadata": {},
   "outputs": [],
   "source": [
    "data = data.drop(['label'],axis=1)"
   ]
  },
  {
   "cell_type": "code",
   "execution_count": 7,
   "metadata": {},
   "outputs": [],
   "source": [
    "genre_list = data.iloc[:, -1]\n",
    "encoder = LabelEncoder()\n",
    "y = encoder.fit_transform(genre_list)"
   ]
  },
  {
   "cell_type": "code",
   "execution_count": 8,
   "metadata": {},
   "outputs": [],
   "source": [
    "scaler = StandardScaler()\n",
    "X = scaler.fit_transform(np.array(data.iloc[:, :-1], dtype = float))"
   ]
  },
  {
   "cell_type": "code",
   "execution_count": 9,
   "metadata": {},
   "outputs": [],
   "source": [
    "X_train, X_test, y_train, y_test = train_test_split(X, y, test_size=0.2)"
   ]
  },
  {
   "cell_type": "code",
   "execution_count": 10,
   "metadata": {},
   "outputs": [
    {
     "data": {
      "text/plain": [
       "720"
      ]
     },
     "execution_count": 10,
     "metadata": {},
     "output_type": "execute_result"
    }
   ],
   "source": [
    "len(y_train)"
   ]
  },
  {
   "cell_type": "code",
   "execution_count": 11,
   "metadata": {},
   "outputs": [
    {
     "data": {
      "text/plain": [
       "180"
      ]
     },
     "execution_count": 11,
     "metadata": {},
     "output_type": "execute_result"
    }
   ],
   "source": [
    "len(y_test)"
   ]
  },
  {
   "cell_type": "code",
   "execution_count": 12,
   "metadata": {},
   "outputs": [
    {
     "data": {
      "text/plain": [
       "array([ 0.61902581,  1.11365541,  0.97540135,  1.07862405,  1.11834241,\n",
       "        1.51631591, -1.00308753, -0.09012949, -0.92371159,  1.05912436,\n",
       "       -0.47344112,  0.16294981,  0.31492082,  0.98223265,  0.21902485,\n",
       "        1.03610715,  0.04148005,  0.19467032, -0.33913908,  0.80426768,\n",
       "       -0.59444054, -0.40420088,  0.13028178, -0.19347428,  0.67128535])"
      ]
     },
     "execution_count": 12,
     "metadata": {},
     "output_type": "execute_result"
    }
   ],
   "source": [
    "X_train[10]"
   ]
  },
  {
   "cell_type": "code",
   "execution_count": 13,
   "metadata": {},
   "outputs": [
    {
     "name": "stdout",
     "output_type": "stream",
     "text": [
      "WARNING:tensorflow:From C:\\Users\\damla\\Anaconda3\\lib\\site-packages\\keras\\backend\\tensorflow_backend.py:74: The name tf.get_default_graph is deprecated. Please use tf.compat.v1.get_default_graph instead.\n",
      "\n",
      "WARNING:tensorflow:From C:\\Users\\damla\\Anaconda3\\lib\\site-packages\\keras\\backend\\tensorflow_backend.py:517: The name tf.placeholder is deprecated. Please use tf.compat.v1.placeholder instead.\n",
      "\n",
      "WARNING:tensorflow:From C:\\Users\\damla\\Anaconda3\\lib\\site-packages\\keras\\backend\\tensorflow_backend.py:4138: The name tf.random_uniform is deprecated. Please use tf.random.uniform instead.\n",
      "\n"
     ]
    }
   ],
   "source": [
    "from keras import models\n",
    "from keras import layers\n",
    "\n",
    "model = models.Sequential()\n",
    "model.add(layers.Dense(256, activation='relu', input_shape=(X_train.shape[1],)))\n",
    "\n",
    "model.add(layers.Dense(128, activation='relu'))\n",
    "\n",
    "model.add(layers.Dense(64, activation='relu'))\n",
    "\n",
    "model.add(layers.Dense(10, activation='softmax'))"
   ]
  },
  {
   "cell_type": "code",
   "execution_count": 14,
   "metadata": {},
   "outputs": [
    {
     "name": "stdout",
     "output_type": "stream",
     "text": [
      "WARNING:tensorflow:From C:\\Users\\damla\\Anaconda3\\lib\\site-packages\\keras\\optimizers.py:790: The name tf.train.Optimizer is deprecated. Please use tf.compat.v1.train.Optimizer instead.\n",
      "\n",
      "WARNING:tensorflow:From C:\\Users\\damla\\Anaconda3\\lib\\site-packages\\keras\\backend\\tensorflow_backend.py:3341: The name tf.log is deprecated. Please use tf.math.log instead.\n",
      "\n"
     ]
    }
   ],
   "source": [
    "model.compile(optimizer='adam',\n",
    "              loss='sparse_categorical_crossentropy',\n",
    "              metrics=['accuracy'])"
   ]
  },
  {
   "cell_type": "code",
   "execution_count": 15,
   "metadata": {
    "scrolled": true
   },
   "outputs": [
    {
     "name": "stdout",
     "output_type": "stream",
     "text": [
      "WARNING:tensorflow:From C:\\Users\\damla\\Anaconda3\\lib\\site-packages\\tensorflow_core\\python\\ops\\math_grad.py:1424: where (from tensorflow.python.ops.array_ops) is deprecated and will be removed in a future version.\n",
      "Instructions for updating:\n",
      "Use tf.where in 2.0, which has the same broadcast rule as np.where\n",
      "WARNING:tensorflow:From C:\\Users\\damla\\Anaconda3\\lib\\site-packages\\keras\\backend\\tensorflow_backend.py:986: The name tf.assign_add is deprecated. Please use tf.compat.v1.assign_add instead.\n",
      "\n",
      "WARNING:tensorflow:From C:\\Users\\damla\\Anaconda3\\lib\\site-packages\\keras\\backend\\tensorflow_backend.py:973: The name tf.assign is deprecated. Please use tf.compat.v1.assign instead.\n",
      "\n",
      "WARNING:tensorflow:From C:\\Users\\damla\\Anaconda3\\lib\\site-packages\\keras\\backend\\tensorflow_backend.py:2741: The name tf.Session is deprecated. Please use tf.compat.v1.Session instead.\n",
      "\n",
      "Epoch 1/20\n",
      "WARNING:tensorflow:From C:\\Users\\damla\\Anaconda3\\lib\\site-packages\\keras\\backend\\tensorflow_backend.py:174: The name tf.get_default_session is deprecated. Please use tf.compat.v1.get_default_session instead.\n",
      "\n",
      "WARNING:tensorflow:From C:\\Users\\damla\\Anaconda3\\lib\\site-packages\\keras\\backend\\tensorflow_backend.py:181: The name tf.ConfigProto is deprecated. Please use tf.compat.v1.ConfigProto instead.\n",
      "\n",
      "WARNING:tensorflow:From C:\\Users\\damla\\Anaconda3\\lib\\site-packages\\keras\\backend\\tensorflow_backend.py:190: The name tf.global_variables is deprecated. Please use tf.compat.v1.global_variables instead.\n",
      "\n",
      "WARNING:tensorflow:From C:\\Users\\damla\\Anaconda3\\lib\\site-packages\\keras\\backend\\tensorflow_backend.py:199: The name tf.is_variable_initialized is deprecated. Please use tf.compat.v1.is_variable_initialized instead.\n",
      "\n",
      "WARNING:tensorflow:From C:\\Users\\damla\\Anaconda3\\lib\\site-packages\\keras\\backend\\tensorflow_backend.py:206: The name tf.variables_initializer is deprecated. Please use tf.compat.v1.variables_initializer instead.\n",
      "\n",
      "720/720 [==============================] - 1s 736us/step - loss: 2.1569 - acc: 0.2375\n",
      "Epoch 2/20\n",
      "720/720 [==============================] - 0s 28us/step - loss: 1.8445 - acc: 0.3403\n",
      "Epoch 3/20\n",
      "720/720 [==============================] - 0s 27us/step - loss: 1.6323 - acc: 0.3889\n",
      "Epoch 4/20\n",
      "720/720 [==============================] - 0s 24us/step - loss: 1.4503 - acc: 0.5042\n",
      "Epoch 5/20\n",
      "720/720 [==============================] - 0s 25us/step - loss: 1.3043 - acc: 0.5569\n",
      "Epoch 6/20\n",
      "720/720 [==============================] - 0s 23us/step - loss: 1.1881 - acc: 0.5764\n",
      "Epoch 7/20\n",
      "720/720 [==============================] - 0s 24us/step - loss: 1.1020 - acc: 0.6264\n",
      "Epoch 8/20\n",
      "720/720 [==============================] - 0s 20us/step - loss: 1.0246 - acc: 0.6500\n",
      "Epoch 9/20\n",
      "720/720 [==============================] - 0s 22us/step - loss: 0.9660 - acc: 0.6722\n",
      "Epoch 10/20\n",
      "720/720 [==============================] - 0s 23us/step - loss: 0.8975 - acc: 0.6958\n",
      "Epoch 11/20\n",
      "720/720 [==============================] - 0s 24us/step - loss: 0.8588 - acc: 0.7097\n",
      "Epoch 12/20\n",
      "720/720 [==============================] - 0s 30us/step - loss: 0.8021 - acc: 0.7319\n",
      "Epoch 13/20\n",
      "720/720 [==============================] - 0s 26us/step - loss: 0.7560 - acc: 0.7514\n",
      "Epoch 14/20\n",
      "720/720 [==============================] - 0s 27us/step - loss: 0.7173 - acc: 0.7667\n",
      "Epoch 15/20\n",
      "720/720 [==============================] - 0s 25us/step - loss: 0.6820 - acc: 0.7736\n",
      "Epoch 16/20\n",
      "720/720 [==============================] - 0s 21us/step - loss: 0.6421 - acc: 0.7903\n",
      "Epoch 17/20\n",
      "720/720 [==============================] - 0s 25us/step - loss: 0.6060 - acc: 0.8069\n",
      "Epoch 18/20\n",
      "720/720 [==============================] - 0s 29us/step - loss: 0.5798 - acc: 0.8167\n",
      "Epoch 19/20\n",
      "720/720 [==============================] - 0s 29us/step - loss: 0.5445 - acc: 0.8333\n",
      "Epoch 20/20\n",
      "720/720 [==============================] - 0s 27us/step - loss: 0.5104 - acc: 0.8583\n"
     ]
    }
   ],
   "source": [
    "history = model.fit(X_train,\n",
    "                    y_train,\n",
    "                    epochs=20,\n",
    "                    batch_size=128)"
   ]
  },
  {
   "cell_type": "code",
   "execution_count": 16,
   "metadata": {},
   "outputs": [
    {
     "name": "stdout",
     "output_type": "stream",
     "text": [
      "180/180 [==============================] - 0s 344us/step\n"
     ]
    }
   ],
   "source": [
    "test_loss, test_acc = model.evaluate(X_test,y_test)"
   ]
  },
  {
   "cell_type": "code",
   "execution_count": 17,
   "metadata": {},
   "outputs": [
    {
     "name": "stdout",
     "output_type": "stream",
     "text": [
      "test_acc:  0.6444444444444445\n"
     ]
    }
   ],
   "source": [
    "print('test_acc: ',test_acc)"
   ]
  },
  {
   "cell_type": "code",
   "execution_count": 18,
   "metadata": {},
   "outputs": [],
   "source": [
    "x_val = X_train[:200]\n",
    "partial_x_train = X_train[200:]\n",
    "\n",
    "y_val = y_train[:200]\n",
    "partial_y_train = y_train[200:]"
   ]
  },
  {
   "cell_type": "code",
   "execution_count": 19,
   "metadata": {},
   "outputs": [
    {
     "name": "stdout",
     "output_type": "stream",
     "text": [
      "Train on 520 samples, validate on 200 samples\n",
      "Epoch 1/30\n",
      "520/520 [==============================] - 1s 1ms/step - loss: 2.2745 - acc: 0.1000 - val_loss: 2.0875 - val_acc: 0.3050\n",
      "Epoch 2/30\n",
      "520/520 [==============================] - 0s 29us/step - loss: 2.0944 - acc: 0.2885 - val_loss: 2.0047 - val_acc: 0.3300\n",
      "Epoch 3/30\n",
      "520/520 [==============================] - 0s 71us/step - loss: 2.0106 - acc: 0.3115 - val_loss: 1.9233 - val_acc: 0.3400\n",
      "Epoch 4/30\n",
      "520/520 [==============================] - 0s 44us/step - loss: 1.9284 - acc: 0.3442 - val_loss: 1.8541 - val_acc: 0.3500\n",
      "Epoch 5/30\n",
      "520/520 [==============================] - 0s 33us/step - loss: 1.8589 - acc: 0.3577 - val_loss: 1.8036 - val_acc: 0.3400\n",
      "Epoch 6/30\n",
      "520/520 [==============================] - 0s 33us/step - loss: 1.8011 - acc: 0.3615 - val_loss: 1.7525 - val_acc: 0.3550\n",
      "Epoch 7/30\n",
      "520/520 [==============================] - 0s 27us/step - loss: 1.7397 - acc: 0.3654 - val_loss: 1.7118 - val_acc: 0.3700\n",
      "Epoch 8/30\n",
      "520/520 [==============================] - 0s 19us/step - loss: 1.6870 - acc: 0.3904 - val_loss: 1.6650 - val_acc: 0.4050\n",
      "Epoch 9/30\n",
      "520/520 [==============================] - 0s 40us/step - loss: 1.6290 - acc: 0.4192 - val_loss: 1.6255 - val_acc: 0.4250\n",
      "Epoch 10/30\n",
      "520/520 [==============================] - 0s 23us/step - loss: 1.5768 - acc: 0.4712 - val_loss: 1.5973 - val_acc: 0.4450\n",
      "Epoch 11/30\n",
      "520/520 [==============================] - 0s 35us/step - loss: 1.5367 - acc: 0.5077 - val_loss: 1.5637 - val_acc: 0.4350\n",
      "Epoch 12/30\n",
      "520/520 [==============================] - 0s 27us/step - loss: 1.4989 - acc: 0.5077 - val_loss: 1.5160 - val_acc: 0.4250\n",
      "Epoch 13/30\n",
      "520/520 [==============================] - 0s 29us/step - loss: 1.4507 - acc: 0.4769 - val_loss: 1.5160 - val_acc: 0.4250\n",
      "Epoch 14/30\n",
      "520/520 [==============================] - 0s 31us/step - loss: 1.4525 - acc: 0.4558 - val_loss: 1.5245 - val_acc: 0.4250\n",
      "Epoch 15/30\n",
      "520/520 [==============================] - 0s 33us/step - loss: 1.4572 - acc: 0.4365 - val_loss: 1.4815 - val_acc: 0.4450\n",
      "Epoch 16/30\n",
      "520/520 [==============================] - 0s 27us/step - loss: 1.4056 - acc: 0.4769 - val_loss: 1.4271 - val_acc: 0.4700\n",
      "Epoch 17/30\n",
      "520/520 [==============================] - 0s 33us/step - loss: 1.3391 - acc: 0.5154 - val_loss: 1.4210 - val_acc: 0.4700\n",
      "Epoch 18/30\n",
      "520/520 [==============================] - 0s 27us/step - loss: 1.3146 - acc: 0.5308 - val_loss: 1.4232 - val_acc: 0.4850\n",
      "Epoch 19/30\n",
      "520/520 [==============================] - 0s 27us/step - loss: 1.3021 - acc: 0.5635 - val_loss: 1.4432 - val_acc: 0.4650\n",
      "Epoch 20/30\n",
      "520/520 [==============================] - 0s 31us/step - loss: 1.3230 - acc: 0.5385 - val_loss: 1.4638 - val_acc: 0.4250\n",
      "Epoch 21/30\n",
      "520/520 [==============================] - 0s 33us/step - loss: 1.3483 - acc: 0.5058 - val_loss: 1.4054 - val_acc: 0.4900\n",
      "Epoch 22/30\n",
      "520/520 [==============================] - 0s 33us/step - loss: 1.2925 - acc: 0.5442 - val_loss: 1.3693 - val_acc: 0.4800\n",
      "Epoch 23/30\n",
      "520/520 [==============================] - 0s 27us/step - loss: 1.2509 - acc: 0.5712 - val_loss: 1.3752 - val_acc: 0.4900\n",
      "Epoch 24/30\n",
      "520/520 [==============================] - 0s 33us/step - loss: 1.2458 - acc: 0.5769 - val_loss: 1.3636 - val_acc: 0.4900\n",
      "Epoch 25/30\n",
      "520/520 [==============================] - 0s 53us/step - loss: 1.2275 - acc: 0.5769 - val_loss: 1.3271 - val_acc: 0.5050\n",
      "Epoch 26/30\n",
      "520/520 [==============================] - 0s 35us/step - loss: 1.1883 - acc: 0.5788 - val_loss: 1.3078 - val_acc: 0.5300\n",
      "Epoch 27/30\n",
      "520/520 [==============================] - 0s 29us/step - loss: 1.1569 - acc: 0.6038 - val_loss: 1.2967 - val_acc: 0.5250\n",
      "Epoch 28/30\n",
      "520/520 [==============================] - 0s 29us/step - loss: 1.1292 - acc: 0.6231 - val_loss: 1.2808 - val_acc: 0.5550\n",
      "Epoch 29/30\n",
      "520/520 [==============================] - 0s 23us/step - loss: 1.1049 - acc: 0.6423 - val_loss: 1.2689 - val_acc: 0.5450\n",
      "Epoch 30/30\n",
      "520/520 [==============================] - 0s 36us/step - loss: 1.0899 - acc: 0.6500 - val_loss: 1.2378 - val_acc: 0.5650\n",
      "180/180 [==============================] - 0s 61us/step\n"
     ]
    }
   ],
   "source": [
    "model = models.Sequential()\n",
    "model.add(layers.Dense(512, activation='relu', input_shape=(X_train.shape[1],)))\n",
    "model.add(layers.Dense(256, activation='relu'))\n",
    "model.add(layers.Dense(128, activation='relu'))\n",
    "model.add(layers.Dense(64, activation='relu'))\n",
    "model.add(layers.Dense(10, activation='softmax'))\n",
    "\n",
    "model.compile(optimizer='adam',\n",
    "              loss='sparse_categorical_crossentropy',\n",
    "              metrics=['accuracy'])\n",
    "\n",
    "model.fit(partial_x_train,\n",
    "          partial_y_train,\n",
    "          epochs=30,\n",
    "          batch_size=512,\n",
    "          validation_data=(x_val, y_val))\n",
    "results = model.evaluate(X_test, y_test)"
   ]
  },
  {
   "cell_type": "code",
   "execution_count": 20,
   "metadata": {},
   "outputs": [
    {
     "data": {
      "text/plain": [
       "[1.320327255460951, 0.49999999735090467]"
      ]
     },
     "execution_count": 20,
     "metadata": {},
     "output_type": "execute_result"
    }
   ],
   "source": [
    "results"
   ]
  },
  {
   "cell_type": "code",
   "execution_count": 21,
   "metadata": {},
   "outputs": [],
   "source": [
    "predictions = model.predict(X_test)"
   ]
  },
  {
   "cell_type": "code",
   "execution_count": 22,
   "metadata": {},
   "outputs": [
    {
     "data": {
      "text/plain": [
       "(10,)"
      ]
     },
     "execution_count": 22,
     "metadata": {},
     "output_type": "execute_result"
    }
   ],
   "source": [
    "predictions[0].shape"
   ]
  },
  {
   "cell_type": "code",
   "execution_count": 23,
   "metadata": {},
   "outputs": [
    {
     "data": {
      "text/plain": [
       "1.0000001"
      ]
     },
     "execution_count": 23,
     "metadata": {},
     "output_type": "execute_result"
    }
   ],
   "source": [
    "np.sum(predictions[0])"
   ]
  },
  {
   "cell_type": "code",
   "execution_count": 24,
   "metadata": {},
   "outputs": [
    {
     "data": {
      "text/plain": [
       "0"
      ]
     },
     "execution_count": 24,
     "metadata": {},
     "output_type": "execute_result"
    }
   ],
   "source": [
    "np.argmax(predictions[0])"
   ]
  },
  {
   "cell_type": "code",
   "execution_count": null,
   "metadata": {},
   "outputs": [],
   "source": []
  },
  {
   "cell_type": "code",
   "execution_count": null,
   "metadata": {},
   "outputs": [],
   "source": []
  }
 ],
 "metadata": {
  "kernelspec": {
   "display_name": "Python 3",
   "language": "python",
   "name": "python3"
  },
  "language_info": {
   "codemirror_mode": {
    "name": "ipython",
    "version": 3
   },
   "file_extension": ".py",
   "mimetype": "text/x-python",
   "name": "python",
   "nbconvert_exporter": "python",
   "pygments_lexer": "ipython3",
   "version": "3.7.4"
  }
 },
 "nbformat": 4,
 "nbformat_minor": 2
}
